{
 "cells": [
  {
   "cell_type": "markdown",
   "metadata": {},
   "source": [
    "не работает "
   ]
  },
  {
   "cell_type": "code",
   "execution_count": 25,
   "metadata": {},
   "outputs": [],
   "source": [
    "#Импорт библиотек\n",
    "import pandas as pd\n",
    "from matplotlib import pyplot as plt\n",
    "import numpy as np\n",
    "import seaborn as sns\n",
    "from keras import Sequential"
   ]
  },
  {
   "cell_type": "code",
   "execution_count": 26,
   "metadata": {},
   "outputs": [
    {
     "data": {
      "text/html": [
       "<div>\n",
       "<style scoped>\n",
       "    .dataframe tbody tr th:only-of-type {\n",
       "        vertical-align: middle;\n",
       "    }\n",
       "\n",
       "    .dataframe tbody tr th {\n",
       "        vertical-align: top;\n",
       "    }\n",
       "\n",
       "    .dataframe thead th {\n",
       "        text-align: right;\n",
       "    }\n",
       "</style>\n",
       "<table border=\"1\" class=\"dataframe\">\n",
       "  <thead>\n",
       "    <tr style=\"text-align: right;\">\n",
       "      <th></th>\n",
       "      <th>Date</th>\n",
       "      <th>Open</th>\n",
       "      <th>High</th>\n",
       "      <th>Low</th>\n",
       "      <th>Close</th>\n",
       "      <th>Adj Close</th>\n",
       "      <th>Volume</th>\n",
       "    </tr>\n",
       "  </thead>\n",
       "  <tbody>\n",
       "    <tr>\n",
       "      <th>0</th>\n",
       "      <td>2000-11-09</td>\n",
       "      <td>2.718750</td>\n",
       "      <td>2.854167</td>\n",
       "      <td>2.463542</td>\n",
       "      <td>2.591146</td>\n",
       "      <td>2.377185</td>\n",
       "      <td>56452800</td>\n",
       "    </tr>\n",
       "    <tr>\n",
       "      <th>1</th>\n",
       "      <td>2000-11-10</td>\n",
       "      <td>2.679688</td>\n",
       "      <td>2.812500</td>\n",
       "      <td>2.385417</td>\n",
       "      <td>2.450521</td>\n",
       "      <td>2.248172</td>\n",
       "      <td>80524800</td>\n",
       "    </tr>\n",
       "    <tr>\n",
       "      <th>2</th>\n",
       "      <td>2000-11-13</td>\n",
       "      <td>2.328125</td>\n",
       "      <td>2.729167</td>\n",
       "      <td>2.250000</td>\n",
       "      <td>2.460938</td>\n",
       "      <td>2.257728</td>\n",
       "      <td>53004000</td>\n",
       "    </tr>\n",
       "    <tr>\n",
       "      <th>3</th>\n",
       "      <td>2000-11-14</td>\n",
       "      <td>2.625000</td>\n",
       "      <td>2.932292</td>\n",
       "      <td>2.604167</td>\n",
       "      <td>2.911458</td>\n",
       "      <td>2.671047</td>\n",
       "      <td>47073600</td>\n",
       "    </tr>\n",
       "    <tr>\n",
       "      <th>4</th>\n",
       "      <td>2000-11-15</td>\n",
       "      <td>2.859375</td>\n",
       "      <td>2.950521</td>\n",
       "      <td>2.742188</td>\n",
       "      <td>2.873047</td>\n",
       "      <td>2.635808</td>\n",
       "      <td>42386400</td>\n",
       "    </tr>\n",
       "    <tr>\n",
       "      <th>...</th>\n",
       "      <td>...</td>\n",
       "      <td>...</td>\n",
       "      <td>...</td>\n",
       "      <td>...</td>\n",
       "      <td>...</td>\n",
       "      <td>...</td>\n",
       "      <td>...</td>\n",
       "    </tr>\n",
       "    <tr>\n",
       "      <th>5780</th>\n",
       "      <td>2023-11-02</td>\n",
       "      <td>433.279999</td>\n",
       "      <td>438.839996</td>\n",
       "      <td>428.940002</td>\n",
       "      <td>435.059998</td>\n",
       "      <td>435.059998</td>\n",
       "      <td>40917200</td>\n",
       "    </tr>\n",
       "    <tr>\n",
       "      <th>5781</th>\n",
       "      <td>2023-11-03</td>\n",
       "      <td>440.200012</td>\n",
       "      <td>453.089996</td>\n",
       "      <td>437.230011</td>\n",
       "      <td>450.049988</td>\n",
       "      <td>450.049988</td>\n",
       "      <td>42385500</td>\n",
       "    </tr>\n",
       "    <tr>\n",
       "      <th>5782</th>\n",
       "      <td>2023-11-06</td>\n",
       "      <td>452.850006</td>\n",
       "      <td>459.350006</td>\n",
       "      <td>448.989990</td>\n",
       "      <td>457.510010</td>\n",
       "      <td>457.510010</td>\n",
       "      <td>40073300</td>\n",
       "    </tr>\n",
       "    <tr>\n",
       "      <th>5783</th>\n",
       "      <td>2023-11-07</td>\n",
       "      <td>457.190002</td>\n",
       "      <td>462.179993</td>\n",
       "      <td>451.579987</td>\n",
       "      <td>459.549988</td>\n",
       "      <td>459.549988</td>\n",
       "      <td>34316500</td>\n",
       "    </tr>\n",
       "    <tr>\n",
       "      <th>5784</th>\n",
       "      <td>2023-11-08</td>\n",
       "      <td>461.000000</td>\n",
       "      <td>468.670013</td>\n",
       "      <td>459.679993</td>\n",
       "      <td>465.739990</td>\n",
       "      <td>465.739990</td>\n",
       "      <td>34671900</td>\n",
       "    </tr>\n",
       "  </tbody>\n",
       "</table>\n",
       "<p>5785 rows × 7 columns</p>\n",
       "</div>"
      ],
      "text/plain": [
       "            Date        Open        High         Low       Close   Adj Close  \\\n",
       "0     2000-11-09    2.718750    2.854167    2.463542    2.591146    2.377185   \n",
       "1     2000-11-10    2.679688    2.812500    2.385417    2.450521    2.248172   \n",
       "2     2000-11-13    2.328125    2.729167    2.250000    2.460938    2.257728   \n",
       "3     2000-11-14    2.625000    2.932292    2.604167    2.911458    2.671047   \n",
       "4     2000-11-15    2.859375    2.950521    2.742188    2.873047    2.635808   \n",
       "...          ...         ...         ...         ...         ...         ...   \n",
       "5780  2023-11-02  433.279999  438.839996  428.940002  435.059998  435.059998   \n",
       "5781  2023-11-03  440.200012  453.089996  437.230011  450.049988  450.049988   \n",
       "5782  2023-11-06  452.850006  459.350006  448.989990  457.510010  457.510010   \n",
       "5783  2023-11-07  457.190002  462.179993  451.579987  459.549988  459.549988   \n",
       "5784  2023-11-08  461.000000  468.670013  459.679993  465.739990  465.739990   \n",
       "\n",
       "        Volume  \n",
       "0     56452800  \n",
       "1     80524800  \n",
       "2     53004000  \n",
       "3     47073600  \n",
       "4     42386400  \n",
       "...        ...  \n",
       "5780  40917200  \n",
       "5781  42385500  \n",
       "5782  40073300  \n",
       "5783  34316500  \n",
       "5784  34671900  \n",
       "\n",
       "[5785 rows x 7 columns]"
      ]
     },
     "execution_count": 26,
     "metadata": {},
     "output_type": "execute_result"
    }
   ],
   "source": [
    "#Загрузка датасета\n",
    "df = pd.read_csv('NVDA.csv')\n",
    "df"
   ]
  },
  {
   "cell_type": "code",
   "execution_count": 27,
   "metadata": {},
   "outputs": [
    {
     "data": {
      "text/plain": [
       "Date         0\n",
       "Open         0\n",
       "High         0\n",
       "Low          0\n",
       "Close        0\n",
       "Adj Close    0\n",
       "Volume       0\n",
       "dtype: int64"
      ]
     },
     "execution_count": 27,
     "metadata": {},
     "output_type": "execute_result"
    }
   ],
   "source": [
    "#Проверка значений\n",
    "df.isnull().sum()"
   ]
  },
  {
   "cell_type": "code",
   "execution_count": 28,
   "metadata": {},
   "outputs": [],
   "source": [
    "# Разделяем данные на тренировочный и тестовый наборы\n",
    "train_size = int(len(df) * 0.8)\n",
    "train_data = df[:train_size]\n",
    "test_data = df[train_size:]\n",
    "\n"
   ]
  },
  {
   "cell_type": "code",
   "execution_count": 29,
   "metadata": {},
   "outputs": [
    {
     "data": {
      "text/plain": [
       "Date          object\n",
       "Open         float64\n",
       "High         float64\n",
       "Low          float64\n",
       "Close        float64\n",
       "Adj Close    float64\n",
       "Volume         int64\n",
       "dtype: object"
      ]
     },
     "execution_count": 29,
     "metadata": {},
     "output_type": "execute_result"
    }
   ],
   "source": [
    "#проверка типов колонок для дальнейщей работы \n",
    "df.dtypes"
   ]
  },
  {
   "cell_type": "code",
   "execution_count": 30,
   "metadata": {},
   "outputs": [
    {
     "ename": "NameError",
     "evalue": "name 'test' is not defined",
     "output_type": "error",
     "traceback": [
      "\u001b[1;31m---------------------------------------------------------------------------\u001b[0m",
      "\u001b[1;31mNameError\u001b[0m                                 Traceback (most recent call last)",
      "\u001b[1;32md:\\PythonPRJ\\Analyse\\main.ipynb Cell 6\u001b[0m line \u001b[0;36m2\n\u001b[0;32m      <a href='vscode-notebook-cell:/d%3A/PythonPRJ/Analyse/main.ipynb#W5sZmlsZQ%3D%3D?line=0'>1</a>\u001b[0m \u001b[39m#Сортировка по дате\u001b[39;00m\n\u001b[1;32m----> <a href='vscode-notebook-cell:/d%3A/PythonPRJ/Analyse/main.ipynb#W5sZmlsZQ%3D%3D?line=1'>2</a>\u001b[0m test\u001b[39m.\u001b[39mplot(x\u001b[39m=\u001b[39m\u001b[39m'\u001b[39m\u001b[39mDate\u001b[39m\u001b[39m'\u001b[39m, y \u001b[39m=\u001b[39m [\u001b[39m'\u001b[39m\u001b[39mOpen\u001b[39m\u001b[39m'\u001b[39m, \u001b[39m'\u001b[39m\u001b[39mHigh\u001b[39m\u001b[39m'\u001b[39m, \u001b[39m'\u001b[39m\u001b[39mLow\u001b[39m\u001b[39m'\u001b[39m, \u001b[39m'\u001b[39m\u001b[39mClose\u001b[39m\u001b[39m'\u001b[39m, \u001b[39m'\u001b[39m\u001b[39mAdj Close\u001b[39m\u001b[39m'\u001b[39m])\n",
      "\u001b[1;31mNameError\u001b[0m: name 'test' is not defined"
     ]
    }
   ],
   "source": [
    "#Сортировка по дате\n",
    "test.plot(x='Date', y = ['Open', 'High', 'Low', 'Close', 'Adj Close'])"
   ]
  },
  {
   "cell_type": "code",
   "execution_count": null,
   "metadata": {},
   "outputs": [],
   "source": [
    "train[['Open', 'High', 'Low', 'Close']].corr()"
   ]
  },
  {
   "cell_type": "code",
   "execution_count": null,
   "metadata": {},
   "outputs": [],
   "source": [
    "import keras\n",
    "from keras import Sequential\n",
    "from keras.layers import Dense, BatchNormalization, LeakyReLU, Activation, Dropout\n",
    "from keras.callbacks import ReduceLROnPlateau"
   ]
  },
  {
   "cell_type": "code",
   "execution_count": null,
   "metadata": {},
   "outputs": [],
   "source": [
    "from sklearn.model_selection import train_test_split\n",
    "\n",
    "# Разделение DataFrame на обучающую и тестовую выборки\n",
    "x_train, x_test, y_train, y_test = train_test_split(df.drop('Open', axis=1), df['Close'], test_size=0.2, random_state=42)\n",
    "\n"
   ]
  },
  {
   "cell_type": "code",
   "execution_count": null,
   "metadata": {},
   "outputs": [],
   "source": [
    "x_test = train.sort_index()\n",
    "y_test = train.sort_index()\n",
    "x_test.plot(x='Date', y = ['Open', 'High', 'Low', 'Close', 'Adj Close'])"
   ]
  },
  {
   "cell_type": "code",
   "execution_count": null,
   "metadata": {},
   "outputs": [],
   "source": [
    "print(len(x_test), len(y_test), len(x_train), len(y_train))\n",
    "x_test"
   ]
  },
  {
   "cell_type": "code",
   "execution_count": null,
   "metadata": {},
   "outputs": [],
   "source": [
    "\n",
    "model = Sequential()\n",
    "model.add(Dense(64, activation='relu', input_shape=(x_train.shape[1],)))\n",
    "model.add(Dropout(0.5))\n",
    "model.add(Dense(10, activation='softmax'))\n",
    "model.compile(optimizer='adam', loss='categirial_crossentropy', metrics=['accuracy'])"
   ]
  },
  {
   "cell_type": "code",
   "execution_count": null,
   "metadata": {},
   "outputs": [],
   "source": [
    "reduce_lr = ReduceLROnPlateau(monitor='val_loss', \n",
    "            factor=0.9, \n",
    "            patience=5, \n",
    "            min_lr=0.000001, \n",
    "            verbose=1)\n",
    "model.compile(optimizer='adam', \n",
    "              loss='categorical_crossentropy',\n",
    "              metrics=['accuracy'])"
   ]
  },
  {
   "cell_type": "code",
   "execution_count": null,
   "metadata": {},
   "outputs": [],
   "source": [
    "train_size = int(len(df) * 0.8)\n",
    "train_data = df[:train_size]\n",
    "test_data = df[train_size:]\n",
    "\n",
    "train_data.drop(\"Volume\", axis=1).plot()\n",
    "test_data.drop(\"Volume\", axis=1).plot()\n"
   ]
  },
  {
   "cell_type": "code",
   "execution_count": 7,
   "metadata": {},
   "outputs": [
    {
     "name": "stdout",
     "output_type": "stream",
     "text": [
      "[[0.00437746]\n",
      " [0.00429446]\n",
      " [0.00412846]\n",
      " ...\n",
      " [0.91372568]\n",
      " [0.91936306]\n",
      " [0.9322913 ]]\n"
     ]
    }
   ],
   "source": [
    "import pandas as pd\n",
    "import numpy as np\n",
    "from sklearn.preprocessing import MinMaxScaler\n",
    "from tensorflow.keras.models import Sequential\n",
    "from tensorflow.keras.layers import Dense, LSTM\n",
    "\n",
    "# Загружаем данные с помощью pandas\n",
    "data = pd.read_csv('NVDA.csv')\n",
    "\n",
    "# Преобразуем данные в numpy массив\n",
    "dataset = data['High'].values\n",
    "dataset = dataset.reshape(-1, 1)\n",
    "\n",
    "\n",
    "# Нормализуем данные\n",
    "scaler = MinMaxScaler()\n",
    "dataset = scaler.fit_transform(dataset)\n",
    "print(dataset)\n",
    "# Разделяем данные на тренировочный и тестовый наборы\n",
    "train_size = int(len(dataset) * 0.8)\n",
    "train_data = dataset[:train_size]\n",
    "test_data = dataset[train_size:]\n",
    "\n",
    "# Создаем функцию для создания временных последовательностей\n",
    "def create_sequences(data, seq_length):\n",
    "    X = []\n",
    "    y = []\n",
    "    for i in range(len(data) - seq_length):\n",
    "        X.append(data[i:i+seq_length])\n",
    "        y.append(data[i+seq_length])\n",
    "    return np.array(X), np.array(y)\n",
    "\n",
    "# Создаем временные последовательности с заданной длиной\n",
    "seq_length = 3\n",
    "X_train, y_train = create_sequences(train_data, seq_length)\n",
    "X_test, y_test = create_sequences(test_data, seq_length)\n",
    "\n"
   ]
  },
  {
   "cell_type": "code",
   "execution_count": 11,
   "metadata": {},
   "outputs": [
    {
     "name": "stdout",
     "output_type": "stream",
     "text": [
      "Epoch 1/50\n",
      "145/145 [==============================] - 1s 1ms/step - loss: 4.2975e-04\n",
      "Epoch 2/50\n",
      "145/145 [==============================] - 0s 944us/step - loss: 2.1746e-06\n",
      "Epoch 3/50\n",
      "145/145 [==============================] - 0s 937us/step - loss: 1.4877e-06\n",
      "Epoch 4/50\n",
      "145/145 [==============================] - 0s 937us/step - loss: 1.5251e-06\n",
      "Epoch 5/50\n",
      "145/145 [==============================] - 0s 948us/step - loss: 1.6583e-06\n",
      "Epoch 6/50\n",
      "145/145 [==============================] - 0s 936us/step - loss: 1.5664e-06\n",
      "Epoch 7/50\n",
      "145/145 [==============================] - 0s 1ms/step - loss: 1.7012e-06\n",
      "Epoch 8/50\n",
      "145/145 [==============================] - 0s 922us/step - loss: 1.7250e-06\n",
      "Epoch 9/50\n",
      "145/145 [==============================] - 0s 934us/step - loss: 1.7454e-06\n",
      "Epoch 10/50\n",
      "145/145 [==============================] - 0s 924us/step - loss: 1.6944e-06\n",
      "Epoch 11/50\n",
      "145/145 [==============================] - 0s 944us/step - loss: 1.6015e-06\n",
      "Epoch 12/50\n",
      "145/145 [==============================] - 0s 931us/step - loss: 1.9994e-06\n",
      "Epoch 13/50\n",
      "145/145 [==============================] - 0s 910us/step - loss: 1.6529e-06\n",
      "Epoch 14/50\n",
      "145/145 [==============================] - 0s 917us/step - loss: 1.5294e-06\n",
      "Epoch 15/50\n",
      "145/145 [==============================] - 0s 917us/step - loss: 1.7130e-06\n",
      "Epoch 16/50\n",
      "145/145 [==============================] - 0s 931us/step - loss: 1.7025e-06\n",
      "Epoch 17/50\n",
      "145/145 [==============================] - 0s 924us/step - loss: 1.6814e-06\n",
      "Epoch 18/50\n",
      "145/145 [==============================] - 0s 958us/step - loss: 1.7696e-06\n",
      "Epoch 19/50\n",
      "145/145 [==============================] - 0s 958us/step - loss: 1.8000e-06\n",
      "Epoch 20/50\n",
      "145/145 [==============================] - 0s 910us/step - loss: 1.6337e-06\n",
      "Epoch 21/50\n",
      "145/145 [==============================] - 0s 917us/step - loss: 1.7025e-06\n",
      "Epoch 22/50\n",
      "145/145 [==============================] - 0s 903us/step - loss: 1.6954e-06\n",
      "Epoch 23/50\n",
      "145/145 [==============================] - 0s 917us/step - loss: 1.6200e-06\n",
      "Epoch 24/50\n",
      "145/145 [==============================] - 0s 917us/step - loss: 1.7506e-06\n",
      "Epoch 25/50\n",
      "145/145 [==============================] - 0s 917us/step - loss: 1.7915e-06\n",
      "Epoch 26/50\n",
      "145/145 [==============================] - 0s 936us/step - loss: 1.6624e-06\n",
      "Epoch 27/50\n",
      "145/145 [==============================] - 0s 910us/step - loss: 1.7264e-06\n",
      "Epoch 28/50\n",
      "145/145 [==============================] - 0s 924us/step - loss: 1.7418e-06\n",
      "Epoch 29/50\n",
      "145/145 [==============================] - 0s 910us/step - loss: 1.6525e-06\n",
      "Epoch 30/50\n",
      "145/145 [==============================] - 0s 924us/step - loss: 1.6500e-06\n",
      "Epoch 31/50\n",
      "145/145 [==============================] - 0s 931us/step - loss: 1.8234e-06\n",
      "Epoch 32/50\n",
      "145/145 [==============================] - 0s 938us/step - loss: 1.6901e-06\n",
      "Epoch 33/50\n",
      "145/145 [==============================] - 0s 917us/step - loss: 1.5696e-06\n",
      "Epoch 34/50\n",
      "145/145 [==============================] - 0s 917us/step - loss: 1.5822e-06\n",
      "Epoch 35/50\n",
      "145/145 [==============================] - 0s 924us/step - loss: 1.6101e-06\n",
      "Epoch 36/50\n",
      "145/145 [==============================] - 0s 946us/step - loss: 1.6055e-06\n",
      "Epoch 37/50\n",
      "145/145 [==============================] - 0s 924us/step - loss: 1.5546e-06\n",
      "Epoch 38/50\n",
      "145/145 [==============================] - 0s 924us/step - loss: 1.5399e-06\n",
      "Epoch 39/50\n",
      "145/145 [==============================] - 0s 917us/step - loss: 1.7342e-06\n",
      "Epoch 40/50\n",
      "145/145 [==============================] - 0s 917us/step - loss: 1.5739e-06\n",
      "Epoch 41/50\n",
      "145/145 [==============================] - 0s 951us/step - loss: 1.5994e-06\n",
      "Epoch 42/50\n",
      "145/145 [==============================] - 0s 917us/step - loss: 1.4934e-06\n",
      "Epoch 43/50\n",
      "145/145 [==============================] - 0s 951us/step - loss: 1.5641e-06\n",
      "Epoch 44/50\n",
      "145/145 [==============================] - 0s 1ms/step - loss: 1.6043e-06\n",
      "Epoch 45/50\n",
      "145/145 [==============================] - 0s 1ms/step - loss: 1.8565e-06\n",
      "Epoch 46/50\n",
      "145/145 [==============================] - 0s 922us/step - loss: 1.5606e-06\n",
      "Epoch 47/50\n",
      "145/145 [==============================] - 0s 917us/step - loss: 1.6774e-06\n",
      "Epoch 48/50\n",
      "145/145 [==============================] - 0s 937us/step - loss: 1.5232e-06\n",
      "Epoch 49/50\n",
      "145/145 [==============================] - 0s 964us/step - loss: 1.6719e-06\n",
      "Epoch 50/50\n",
      "145/145 [==============================] - 0s 958us/step - loss: 1.9886e-06\n",
      "37/37 [==============================] - 0s 666us/step\n"
     ]
    },
    {
     "data": {
      "image/png": "[encoded data removed]",
      "text/plain": [
       "<Figure size 640x480 with 1 Axes>"
      ]
     },
     "metadata": {},
     "output_type": "display_data"
    },
    {
     "name": "stdout",
     "output_type": "stream",
     "text": [
      "10/10 [==============================] - 0s 1000us/step - loss: 0.0036\n",
      "test loss, test acc: 0.00359578849747777\n"
     ]
    }
   ],
   "source": [
    "# Создаем и обучаем модель нейронной сети\n",
    "model = Sequential()\n",
    "model.add(LSTM(64, activation='relu', input_shape=(seq_length, 1)))\n",
    "model.add(Dense(5, activation='relu'))\n",
    "model.compile(optimizer='adam', loss='mse')\n",
    "#print(X_train)\n",
    "#print(y_train)\n",
    "history = model.fit(X_train, y_train, epochs=50, batch_size=32)\n",
    "# Прогнозируем будущие значения\n",
    "predicted_values = model.predict(X_test)\n",
    "predicted_values = scaler.inverse_transform(predicted_values)\n",
    "\n",
    "# Визуализируем прогнозируемые и фактические значения\n",
    "import matplotlib.pyplot as plt\n",
    "\n",
    "plt.plot(scaler.inverse_transform(test_data[seq_length:]), label='Actual')\n",
    "plt.plot(predicted_values, label='Predicted')\n",
    "plt.legend()\n",
    "plt.show()\n",
    "\n",
    "results = model.evaluate(X_test, y_test, batch_size=128)\n",
    "print('test loss, test acc:', results)"
   ]
  }
 ],
 "metadata": {
  "kernelspec": {
   "display_name": "venv",
   "language": "python",
   "name": "python3"
  },
  "language_info": {
   "codemirror_mode": {
    "name": "ipython",
    "version": 3
   },
   "file_extension": ".py",
   "mimetype": "text/x-python",
   "name": "python",
   "nbconvert_exporter": "python",
   "pygments_lexer": "ipython3",
   "version": "3.11.4"
  }
 },
 "nbformat": 4,
 "nbformat_minor": 2
}
